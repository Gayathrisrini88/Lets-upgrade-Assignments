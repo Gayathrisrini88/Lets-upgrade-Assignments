{
 "cells": [
  {
   "cell_type": "code",
   "execution_count": 2,
   "metadata": {},
   "outputs": [],
   "source": [
    "import numpy as np"
   ]
  },
  {
   "cell_type": "markdown",
   "metadata": {},
   "source": [
    "#  Question 1"
   ]
  },
  {
   "cell_type": "code",
   "execution_count": 4,
   "metadata": {},
   "outputs": [
    {
     "name": "stdout",
     "output_type": "stream",
     "text": [
      "[ 2  5  8 11 14 17 20 23 26 29 32 35 38 41 44 47 50]\n",
      "<class 'numpy.ndarray'>\n"
     ]
    }
   ],
   "source": [
    "t=np.array(range(2,51,3))\n",
    "print(t)\n",
    "print(type(t))"
   ]
  },
  {
   "cell_type": "markdown",
   "metadata": {},
   "source": [
    "# Question 2"
   ]
  },
  {
   "cell_type": "code",
   "execution_count": 5,
   "metadata": {},
   "outputs": [
    {
     "name": "stdout",
     "output_type": "stream",
     "text": [
      "1\n",
      "3\n",
      "56\n",
      "2\n",
      "6\n",
      "[1, 3, 56, 2, 6]\n",
      "\n",
      "7\n",
      "5\n",
      "44\n",
      "23\n",
      "0\n",
      "[7, 5, 44, 23, 0]\n",
      "\n",
      "[ 1  3 56  2  6  7  5 44 23  0]\n",
      "\n",
      "[ 0  1  2  3  5  6  7 23 44 56]\n"
     ]
    }
   ],
   "source": [
    "#list\n",
    "t2=[]\n",
    "t3=[]\n",
    "#Getting input from user\n",
    "for i in range(0,5):\n",
    "    elt=int(input())\n",
    "    t2.append(elt)\n",
    "print(t2)\n",
    "print()\n",
    "for i in range(0,5):\n",
    "    elt=int(input())\n",
    "    t3.append(elt)\n",
    "print(t3)\n",
    "print()\n",
    "\n",
    "#converting list to numpy arrays\n",
    "a=np.array(t2)\n",
    "b=np.array(t3)\n",
    "\n",
    "#Array after concatenation\n",
    "d=np.concatenate((a,b))\n",
    "c=np.array(d)\n",
    "print((c))\n",
    "print()\n",
    "\n",
    "#sorted numpy array\n",
    "print(np.sort(c))\n"
   ]
  },
  {
   "cell_type": "markdown",
   "metadata": {},
   "source": [
    "# Question 3"
   ]
  },
  {
   "cell_type": "code",
   "execution_count": 11,
   "metadata": {},
   "outputs": [
    {
     "name": "stdout",
     "output_type": "stream",
     "text": [
      "2\n",
      "8\n"
     ]
    }
   ],
   "source": [
    "e=np.asarray([[1,2,3,4],[2,3,6,7]],dtype=int)\n",
    "#dimension of the ndarray\n",
    "print(e.ndim)\n",
    "#size of the ndarray\n",
    "print(e.size)"
   ]
  },
  {
   "cell_type": "markdown",
   "metadata": {},
   "source": [
    "# Question 4"
   ]
  },
  {
   "cell_type": "code",
   "execution_count": 31,
   "metadata": {},
   "outputs": [
    {
     "name": "stdout",
     "output_type": "stream",
     "text": [
      "[[1 2]\n",
      " [3 4]\n",
      " [2 3]\n",
      " [6 7]]\n",
      "\n",
      "shape of array after using reshape(): (4, 2)\n",
      "\n",
      "[[[1 2 3 4]]\n",
      "\n",
      " [[2 3 6 7]]]\n",
      "\n",
      "shape of array after using newaxis(): (2, 1, 4)\n"
     ]
    }
   ],
   "source": [
    "#conversion of 1D array to 2D array using reshape function\n",
    "e=np.asarray([[1,2,3,4],[2,3,6,7]],dtype=int)\n",
    "f=np.reshape(e,(4,2))\n",
    "print(f)\n",
    "print(\"\\nshape of array after using reshape():\",np.shape(f))\n",
    "print()\n",
    "#conversion using newaxis()\n",
    "f=e[:,np.newaxis] \n",
    "print(f)\n",
    "print()\n",
    "print(\"shape of array after using newaxis():\",np.shape(f))\n"
   ]
  },
  {
   "cell_type": "markdown",
   "metadata": {},
   "source": [
    "# Question 5"
   ]
  },
  {
   "cell_type": "code",
   "execution_count": 39,
   "metadata": {},
   "outputs": [
    {
     "name": "stdout",
     "output_type": "stream",
     "text": [
      "Vertical stacking\n",
      " [[4 1]\n",
      " [6 5]\n",
      " [6 7]\n",
      " [9 5]\n",
      " [2 1]\n",
      " [3 5]\n",
      " [6 4]\n",
      " [9 7]]\n",
      "\n",
      "Horizontal stacking\n",
      " [[4 1 2 1]\n",
      " [6 5 3 5]\n",
      " [6 7 6 4]\n",
      " [9 5 9 7]]\n"
     ]
    }
   ],
   "source": [
    "e=np.array([[4,1],[6,5],[6,7],[9,5]])\n",
    "f=np.array([[2,1],[3,5],[6,4],[9,7]])\n",
    "#Vertical stacking\n",
    "print(\"Vertical stacking\\n\",np.vstack((e,f)))\n",
    "\n",
    "print()\n",
    "print(\"Horizontal stacking\\n\",np.hstack((e,f)))"
   ]
  },
  {
   "cell_type": "markdown",
   "metadata": {},
   "source": [
    "# Question 6"
   ]
  },
  {
   "cell_type": "code",
   "execution_count": 29,
   "metadata": {},
   "outputs": [
    {
     "name": "stdout",
     "output_type": "stream",
     "text": [
      "-------------------------------------\n",
      "To find unique elements in ndarray\n",
      "-------------------------------------\n",
      "Unique Values :  [11 12 13 14 15 16 17]\n",
      "\n",
      "------------------------------------------\n",
      "Unique Values along with occurrence Count\n",
      "------------------------------------------\n",
      "Unique values : [11 12 13 14 15 16 17]\n",
      "\n",
      "Occurence count : [3 2 2 2 1 1 1]\n"
     ]
    }
   ],
   "source": [
    "print(\"-------------------------------------\\nTo find unique elements in ndarray\\n-------------------------------------\")\n",
    "arr = np.array([[11, 11, 12, 13],[14, 15, 16, 17],[12, 13, 11, 14]])\n",
    "uniqueValues = np.unique(arr)\n",
    "print('Unique Values : ', uniqueValues)\n",
    "print()\n",
    "uniqueValues, occurCount = np.unique(arr, return_counts=True)\n",
    "listOfUniqueValues = zip(uniqueValues, occurCount)\n",
    "print('------------------------------------------\\nUnique Values along with occurrence Count')\n",
    "print(\"------------------------------------------\")\n",
    "print(\"Unique values :\",uniqueValues)\n",
    "print()\n",
    "print(\"Occurence count :\",occurCount)"
   ]
  }
 ],
 "metadata": {
  "kernelspec": {
   "display_name": "Python 3",
   "language": "python",
   "name": "python3"
  },
  "language_info": {
   "codemirror_mode": {
    "name": "ipython",
    "version": 3
   },
   "file_extension": ".py",
   "mimetype": "text/x-python",
   "name": "python",
   "nbconvert_exporter": "python",
   "pygments_lexer": "ipython3",
   "version": "3.8.3"
  }
 },
 "nbformat": 4,
 "nbformat_minor": 4
}
