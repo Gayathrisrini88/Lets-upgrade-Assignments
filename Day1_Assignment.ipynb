{
  "nbformat": 4,
  "nbformat_minor": 0,
  "metadata": {
    "colab": {
      "name": "Day1 Assignment",
      "provenance": [],
      "authorship_tag": "ABX9TyOLqSS47aWJogNeqDDIHt3l",
      "include_colab_link": true
    },
    "kernelspec": {
      "name": "python3",
      "display_name": "Python 3"
    }
  },
  "cells": [
    {
      "cell_type": "markdown",
      "metadata": {
        "id": "view-in-github",
        "colab_type": "text"
      },
      "source": [
        "<a href=\"https://colab.research.google.com/github/Gayathrisrini88/Lets-upgrade-Assignments/blob/main/Day1_Assignment.ipynb\" target=\"_parent\"><img src=\"https://colab.research.google.com/assets/colab-badge.svg\" alt=\"Open In Colab\"/></a>"
      ]
    },
    {
      "cell_type": "markdown",
      "metadata": {
        "id": "KkLGkiF_zAnJ"
      },
      "source": [
        "RAINBOW"
      ]
    },
    {
      "cell_type": "code",
      "metadata": {
        "id": "Ji1lxVzozLKg",
        "outputId": "8e5e6cdd-a122-4e4d-e306-3a98f233b08e",
        "colab": {
          "base_uri": "https://localhost:8080/"
        }
      },
      "source": [
        "print(\"LETS UPGRADE\")"
      ],
      "execution_count": 3,
      "outputs": [
        {
          "output_type": "stream",
          "text": [
            "LETS UPGRADE\n"
          ],
          "name": "stdout"
        }
      ]
    },
    {
      "cell_type": "code",
      "metadata": {
        "id": "Pem6379bzXBK",
        "outputId": "7d85fe47-e1cd-4365-c4ac-5fea0c4e84f5",
        "colab": {
          "base_uri": "https://localhost:8080/"
        }
      },
      "source": [
        "cp=int(input())\n",
        "sp=int(input())\n",
        "if(cp>sp):\n",
        "  print(\"Loss\")\n",
        "elif(cp<sp):\n",
        "  print(\"Profit\")\n",
        "else:\n",
        "  print(\"Neither\")\n"
      ],
      "execution_count": 6,
      "outputs": [
        {
          "output_type": "stream",
          "text": [
            "10\n",
            "10\n",
            "Neither\n"
          ],
          "name": "stdout"
        }
      ]
    },
    {
      "cell_type": "code",
      "metadata": {
        "id": "vUUNQXuq0ktS",
        "outputId": "244feb4d-dd5e-4170-cf53-fbd6aae0846d",
        "colab": {
          "base_uri": "https://localhost:8080/"
        }
      },
      "source": [
        "rs=int(input())\n",
        "euro=rs*80\n",
        "print(euro)"
      ],
      "execution_count": 8,
      "outputs": [
        {
          "output_type": "stream",
          "text": [
            "20\n",
            "1600\n"
          ],
          "name": "stdout"
        }
      ]
    }
  ]
}