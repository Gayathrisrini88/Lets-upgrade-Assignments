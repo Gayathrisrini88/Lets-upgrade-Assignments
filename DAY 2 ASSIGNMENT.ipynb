{
 "cells": [
  {
   "cell_type": "markdown",
   "metadata": {},
   "source": [
    "# Question 1"
   ]
  },
  {
   "cell_type": "code",
   "execution_count": 10,
   "metadata": {},
   "outputs": [
    {
     "name": "stdout",
     "output_type": "stream",
     "text": [
      "20\n",
      "12\n",
      "2\n",
      "3\n",
      "5\n",
      "6\n",
      "7\n",
      "8\n",
      "9\n",
      "7\n",
      "[20, 12, 2, 6, 8]\n"
     ]
    }
   ],
   "source": [
    "lis=[]\n",
    "for i in range(10):\n",
    "    val=int(input())\n",
    "    if val%2==0:\n",
    "        lis.append(val)\n",
    "print(lis)"
   ]
  },
  {
   "cell_type": "markdown",
   "metadata": {},
   "source": [
    "# Question 2"
   ]
  },
  {
   "cell_type": "code",
   "execution_count": 33,
   "metadata": {},
   "outputs": [
    {
     "name": "stdout",
     "output_type": "stream",
     "text": [
      "['Mango', 'Orange']\n",
      "['G', 'a', 'y', 'a', 't', 'h', 'r', 'i']\n"
     ]
    }
   ],
   "source": [
    "#LIST COMPREHENSION\n",
    "basket_1=[\"Mango\",\"Orange\",\"Apple\",\"Kiwi\"]\n",
    "newbasket=[]\n",
    "name=[]\n",
    "for i in basket_1:\n",
    "    if 'a' in i:\n",
    "        newbasket.append(i)\n",
    "print(newbasket)\n",
    "for i in 'Gayathri':\n",
    "       name.append(i) \n",
    "print(name)\n"
   ]
  },
  {
   "cell_type": "markdown",
   "metadata": {},
   "source": [
    "# Question 3\n"
   ]
  },
  {
   "cell_type": "code",
   "execution_count": 50,
   "metadata": {},
   "outputs": [
    {
     "name": "stdout",
     "output_type": "stream",
     "text": [
      "10\n",
      "{1: 1, 2: 4, 3: 9, 4: 16, 5: 25, 6: 36, 7: 49, 8: 64, 9: 81, 10: 100}\n"
     ]
    }
   ],
   "source": [
    "dictionary={}\n",
    "n=int(input())\n",
    "for i in range(n):\n",
    "    i+=1\n",
    "    dictionary[i]=i*i\n",
    "print(dictionary)"
   ]
  },
  {
   "cell_type": "markdown",
   "metadata": {},
   "source": [
    "# Question 4"
   ]
  },
  {
   "cell_type": "code",
   "execution_count": 56,
   "metadata": {},
   "outputs": [
    {
     "name": "stdout",
     "output_type": "stream",
     "text": [
      "4\n",
      "UP 5\n",
      "DOWN 3\n",
      "LEFT 3\n",
      "RIGHT 2\n",
      "2\n"
     ]
    }
   ],
   "source": [
    "import math\n",
    "n=int(input())\n",
    "pos=[0,0]\n",
    "for i in range(n):\n",
    "    m=input()\n",
    "    mov=m.split(\" \")\n",
    "    direct=mov[0]\n",
    "    steps=int(mov[1])\n",
    "    if direct==\"UP\":\n",
    "        pos[0]+=steps\n",
    "    elif direct==\"DOWN\":\n",
    "        pos[0]-=steps\n",
    "    elif direct==\"RIGHT\":\n",
    "        pos[1]+=steps\n",
    "    elif direct==\"LEFT\":\n",
    "        pos[1]-=steps\n",
    "    else:\n",
    "        print(\"Enter correct direction\")\n",
    "print(int(round(math.sqrt(pos[1]**2+pos[0]**2))))\n",
    "    \n",
    "    \n"
   ]
  },
  {
   "cell_type": "code",
   "execution_count": null,
   "metadata": {},
   "outputs": [],
   "source": []
  }
 ],
 "metadata": {
  "kernelspec": {
   "display_name": "Python 3",
   "language": "python",
   "name": "python3"
  },
  "language_info": {
   "codemirror_mode": {
    "name": "ipython",
    "version": 3
   },
   "file_extension": ".py",
   "mimetype": "text/x-python",
   "name": "python",
   "nbconvert_exporter": "python",
   "pygments_lexer": "ipython3",
   "version": "3.8.3"
  }
 },
 "nbformat": 4,
 "nbformat_minor": 4
}
