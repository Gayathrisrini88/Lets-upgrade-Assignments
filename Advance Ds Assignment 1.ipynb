{
 "cells": [
  {
   "cell_type": "raw",
   "metadata": {},
   "source": [
    "#1 Eigen values and Eigen vectors of an array\n",
    "\n",
    "In linear algebra, an eigenvector or characteristic vector of a linear transformation is a nonzero vector that changes by a scalar factor when that linear transformation is applied to it. The corresponding eigenvalue, often denoted by lambda is the factor by which the eigenvector is scaled.\n",
    "\n",
    "The function numpy.linalg.eig computes eigenvalues and eigenvectors of a square matrix. The function np.linalg.eig returns a tuple (eigvals,eigvecs) where eigvals is a 1D NumPy array of complex numbers giving the eigenvalues and eigvecs is a 2D NumPy array with the corresponding eigenvectors in the columns."
   ]
  },
  {
   "cell_type": "code",
   "execution_count": 8,
   "metadata": {},
   "outputs": [],
   "source": [
    "import numpy as np\n",
    "import matplotlib.pyplot as plt"
   ]
  },
  {
   "cell_type": "code",
   "execution_count": 10,
   "metadata": {},
   "outputs": [
    {
     "name": "stdout",
     "output_type": "stream",
     "text": [
      "This is numpy array\n",
      "  [[ 1  3]\n",
      " [ 0 -2]]\n",
      "Eigen Values:  [ 1. -2.]\n",
      "Eigen Vectors: \n",
      " [[ 1.         -0.70710678]\n",
      " [ 0.          0.70710678]]\n"
     ]
    }
   ],
   "source": [
    "a = np.array([[1,3],[0,-2]])\n",
    "print(\"This is numpy array\\n \",a)\n",
    "eigvals,eigvecs=np.linalg.eig(a)\n",
    "print(\"Eigen Values: \",eigvals)\n",
    "print(\"Eigen Vectors: \\n\",eigvecs)"
   ]
  },
  {
   "cell_type": "raw",
   "metadata": {},
   "source": [
    "#2 Numpy digitize() function helps to get the indices of the bin to which each value of the input array belongs and returns an array containing the indices of the bin. Input array having the values and output array holding the indices of bins can be multidimensional. Bins are 1D and monotonic. np.digitize() is implemented as np.searchsorted. Means that a binary search is used to bin the values which scales better for larger number of bins. Also it removes the requirement for the input array to be 1-dimensional.\n",
    "\n",
    "syntax: np.digitize(Array, Bin, Right) "
   ]
  },
  {
   "cell_type": "code",
   "execution_count": 11,
   "metadata": {},
   "outputs": [
    {
     "name": "stdout",
     "output_type": "stream",
     "text": [
      "[2 2 3 4]\n"
     ]
    }
   ],
   "source": [
    "a = np.array([1.4, 2.1, 3.6, 4.6]) \n",
    "bins = np.array([1.0, 1.2, 2.5, 4.2, 9.0]) \n",
    "   \n",
    "# using np.digitize() method \n",
    "h = np.digitize(a, bins) \n",
    "   \n",
    "print(h) "
   ]
  },
  {
   "cell_type": "raw",
   "metadata": {},
   "source": [
    "#3 digitize() The numpy.repeat() function repeats the elements of an array.\n",
    "syntax: numpy.repeat(arr, repetitions, axis = None)"
   ]
  },
  {
   "cell_type": "code",
   "execution_count": 13,
   "metadata": {},
   "outputs": [
    {
     "name": "stdout",
     "output_type": "stream",
     "text": [
      "arr : \n",
      " [0 1 2 3 4]\n",
      "\n",
      "Repeating arr 2 times : \n",
      " [0 0 1 1 2 2 3 3 4 4]\n",
      "Shape :  (10,)\n",
      "\n",
      "Repeating arr 3 times : \n",
      " [0 0 0 1 1 1 2 2 2 3 3 3 4 4 4]\n",
      "Shape :  (15,)\n"
     ]
    }
   ],
   "source": [
    "#Working on 1D \n",
    "arr = np.arange(5) \n",
    "print(\"arr : \\n\", arr) \n",
    "\n",
    "repetitions = 2\n",
    "a = np.repeat(arr, repetitions) \n",
    "print(\"\\nRepeating arr 2 times : \\n\", a) \n",
    "print(\"Shape : \", a.shape) \n",
    "\n",
    "repetitions = 3\n",
    "a = np.repeat(arr, repetitions) \n",
    "print(\"\\nRepeating arr 3 times : \\n\", a) \n",
    "print(\"Shape : \", a.shape) \n"
   ]
  },
  {
   "cell_type": "raw",
   "metadata": {},
   "source": [
    "#4 squeeze()\n",
    "numpy.squeeze () in Python numpy.squeeze () function is used to remove single-dimensional entries from the shape of an array. \n",
    "Syntax : numpy.squeeze (arr, axis=None)"
   ]
  },
  {
   "cell_type": "code",
   "execution_count": 14,
   "metadata": {},
   "outputs": [
    {
     "name": "stdout",
     "output_type": "stream",
     "text": [
      "Input array :  [[[2 2 2]\n",
      "  [2 2 2]]]\n",
      "Shape of input array :  (1, 2, 3)\n",
      "output squeezed array :  [[2 2 2]\n",
      " [2 2 2]]\n",
      "Shape of output array :  (2, 3)\n"
     ]
    }
   ],
   "source": [
    "in_arr = np.array([[[2, 2, 2], [2, 2, 2]]]) \n",
    "\n",
    "print (\"Input array : \", in_arr) \n",
    "print(\"Shape of input array : \", in_arr.shape) \n",
    "\n",
    "out_arr =np.squeeze(in_arr) \n",
    "\n",
    "print (\"output squeezed array : \", out_arr) \n",
    "print(\"Shape of output array : \", out_arr.shape) \n"
   ]
  },
  {
   "cell_type": "raw",
   "metadata": {},
   "source": [
    "#5 linspace()\n",
    "The NumPy linspace function is a tool in Python for creating numeric sequences. It’s somewhat similar to the NumPy arange function, in that it creates sequences of evenly spaced numbers structured as a NumPy array. \n",
    "syntax: numpy.linspace(start, stop, num=50, endpoint=True, retstep=False, dtype=None, axis=0)\n"
   ]
  },
  {
   "cell_type": "code",
   "execution_count": 15,
   "metadata": {},
   "outputs": [
    {
     "data": {
      "text/plain": [
       "array([2.  , 2.25, 2.5 , 2.75, 3.  ])"
      ]
     },
     "execution_count": 15,
     "metadata": {},
     "output_type": "execute_result"
    }
   ],
   "source": [
    "c=np.linspace(2.0, 3.0, num=5)\n",
    "c"
   ]
  },
  {
   "cell_type": "raw",
   "metadata": {},
   "source": [
    "#6 clip()\n",
    "numpy.clip () function is used to Clip (limit) the values in an array. Given an interval, values outside the interval are clipped to the interval edges. \n",
    "syntax: numpy.clip(a, a_min, a_max, out=None)"
   ]
  },
  {
   "cell_type": "code",
   "execution_count": 16,
   "metadata": {},
   "outputs": [
    {
     "name": "stdout",
     "output_type": "stream",
     "text": [
      "Input array :  [1, 2, 3, 4, 5, 6, 7, 8]\n",
      "Output array :  [2 2 3 4 5 6 6 6]\n"
     ]
    }
   ],
   "source": [
    "in_array = [1, 2, 3, 4, 5, 6, 7, 8 ] \n",
    "print (\"Input array : \", in_array) \n",
    "\n",
    "out_array = np.clip(in_array, a_min = 2, a_max = 6) \n",
    "print (\"Output array : \", out_array) "
   ]
  },
  {
   "cell_type": "raw",
   "metadata": {},
   "source": [
    "#7 extract()\n",
    "Return the elements of an array that satisfy some condition.\n",
    "syntax: numpy.extract(condition, arr)"
   ]
  },
  {
   "cell_type": "code",
   "execution_count": 18,
   "metadata": {},
   "outputs": [
    {
     "name": "stdout",
     "output_type": "stream",
     "text": [
      "[[0 1 2]\n",
      " [3 4 5]]\n",
      "[[ True False False]\n",
      " [ True False False]]\n"
     ]
    },
    {
     "data": {
      "text/plain": [
       "array([0, 3])"
      ]
     },
     "execution_count": 18,
     "metadata": {},
     "output_type": "execute_result"
    }
   ],
   "source": [
    "arr = np.arange(6).reshape((2, 3))\n",
    "print(arr)\n",
    "con = np.mod(arr, 3)==0\n",
    "print(con)\n",
    "np.extract(con, arr)"
   ]
  },
  {
   "cell_type": "raw",
   "metadata": {},
   "source": [
    "#8 argpartition() \n",
    "Perform an indirect partition along the given axis using the algorithm specified by the kind keyword. \n",
    "It returns an array of indices of the same shape as a that index data along the given axis in partitioned order.\n",
    "syntax: numpy.argpartition(a, kth, axis=-1, kind='introselect', order=None)"
   ]
  },
  {
   "cell_type": "code",
   "execution_count": 23,
   "metadata": {},
   "outputs": [
    {
     "data": {
      "text/plain": [
       "array([2, 4, 5, 8])"
      ]
     },
     "execution_count": 23,
     "metadata": {},
     "output_type": "execute_result"
    }
   ],
   "source": [
    "x = np.array([8, 4, 2, 5])\n",
    "x[np.argpartition(x, 2)]"
   ]
  },
  {
   "cell_type": "raw",
   "metadata": {},
   "source": [
    "#setdiff1d()\n",
    "numpy.setdiff1d() function find the set difference of two arrays and return the unique values in \n",
    "arr1 that are not in arr2.\n",
    "Syntax : numpy.setdiff1d(arr1, arr2, assume_unique = False)"
   ]
  },
  {
   "cell_type": "code",
   "execution_count": 24,
   "metadata": {},
   "outputs": [
    {
     "name": "stdout",
     "output_type": "stream",
     "text": [
      "[4 5 6]\n"
     ]
    }
   ],
   "source": [
    "arr1 = [5, 6, 2, 3, 4] \n",
    "arr2 = [1, 2, 3] \n",
    "\n",
    "g = np.setdiff1d(arr1, arr2) \n",
    "\n",
    "print (g) \n"
   ]
  },
  {
   "cell_type": "raw",
   "metadata": {},
   "source": [
    "#10 itemsize\n",
    "numpy.ndarray.itemsize () function return the length of one array element in bytes. \n",
    "Syntax : numpy.ndarray.itemsize (arr)"
   ]
  },
  {
   "cell_type": "code",
   "execution_count": 26,
   "metadata": {},
   "outputs": [
    {
     "name": "stdout",
     "output_type": "stream",
     "text": [
      "8\n"
     ]
    }
   ],
   "source": [
    "arr = np.array([1, 2, 3, 4], dtype = np.float64) \n",
    "\n",
    "gg = arr.itemsize \n",
    "\n",
    "print (gg) \n"
   ]
  },
  {
   "cell_type": "raw",
   "metadata": {},
   "source": [
    "#11. hstack()\n",
    "he hstack function in NumPy returns a horizontally stacked array from more than one arrays which are used as the input to the hstack function. The hstack function takes a tuple as an arguments which represents the input arrays that are to be stacked resulting in a single array\n",
    "Syntax : numpy.hstack(tup)"
   ]
  },
  {
   "cell_type": "code",
   "execution_count": 27,
   "metadata": {},
   "outputs": [
    {
     "name": "stdout",
     "output_type": "stream",
     "text": [
      "1st Input array : \n",
      " [5 2 3]\n",
      "2nd Input array : \n",
      " [7 8 3]\n",
      "Output horizontally stacked array:\n",
      "  [5 2 3 7 8 3]\n"
     ]
    }
   ],
   "source": [
    "in_arr1 = np.array([ 5, 2, 3] ) \n",
    "print (\"1st Input array : \\n\", in_arr1) \n",
    "\n",
    "in_arr2 = np.array([ 7, 8, 3] ) \n",
    "print (\"2nd Input array : \\n\", in_arr2) \n",
    "out_arr = np.hstack((in_arr1, in_arr2)) \n",
    "print (\"Output horizontally stacked array:\\n \", out_arr) \n"
   ]
  },
  {
   "cell_type": "raw",
   "metadata": {},
   "source": [
    "#12. vstack()\n",
    "numpy.vstack () function is used to stack the sequence of input arrays vertically to make a single array. \n",
    "Syntax : numpy.vstack (tup)"
   ]
  },
  {
   "cell_type": "code",
   "execution_count": 29,
   "metadata": {},
   "outputs": [
    {
     "name": "stdout",
     "output_type": "stream",
     "text": [
      "Output vertically stacked array:\n",
      "  [[5 2 3]\n",
      " [7 8 3]]\n"
     ]
    }
   ],
   "source": [
    "# Stacking the two arrays vertically \n",
    "out_arr = np.vstack((in_arr1, in_arr2)) \n",
    "print (\"Output vertically stacked array:\\n \", out_arr) "
   ]
  },
  {
   "cell_type": "raw",
   "metadata": {},
   "source": [
    "#13 hsplit()\n",
    "numpy.hsplit() function split an array into multiple sub-arrays horizontally (column-wise). hsplit is equivalent to split with axis=1, the array is always split along the second axis regardless of the array dimension.\n",
    "Syntax : numpy.hsplit(arr, indices_or_sections)"
   ]
  },
  {
   "cell_type": "code",
   "execution_count": 30,
   "metadata": {},
   "outputs": [
    {
     "name": "stdout",
     "output_type": "stream",
     "text": [
      "[array([[[ 0.,  1.,  2.],\n",
      "        [ 3.,  4.,  5.],\n",
      "        [ 6.,  7.,  8.]],\n",
      "\n",
      "       [[ 9., 10., 11.],\n",
      "        [12., 13., 14.],\n",
      "        [15., 16., 17.]],\n",
      "\n",
      "       [[18., 19., 20.],\n",
      "        [21., 22., 23.],\n",
      "        [24., 25., 26.]]])]\n"
     ]
    }
   ],
   "source": [
    "arr = np.arange(27.0).reshape(3, 3, 3) \n",
    "\n",
    "r = np.hsplit(arr, 1) \n",
    "\n",
    "print (r) \n"
   ]
  },
  {
   "cell_type": "raw",
   "metadata": {},
   "source": [
    "#14 vsplit()\n",
    "numpy.vsplit() function split an array into multiple sub-arrays vertically (row-wise). vsplit is equivalent to split with axis=0 (default), the array is always split along the first axis regardless of the array dimension.\n",
    "\n",
    "Syntax : numpy.vsplit(arr, indices_or_sections)"
   ]
  },
  {
   "cell_type": "code",
   "execution_count": 32,
   "metadata": {},
   "outputs": [
    {
     "name": "stdout",
     "output_type": "stream",
     "text": [
      "[array([[ 0.,  1.,  2.,  3.],\n",
      "       [ 4.,  5.,  6.,  7.],\n",
      "       [ 8.,  9., 10., 11.],\n",
      "       [12., 13., 14., 15.]])]\n"
     ]
    }
   ],
   "source": [
    "arr = np.arange(16.0).reshape(4,4) \n",
    "\n",
    "r = np.vsplit(arr, 1) \n",
    "\n",
    "print (r)"
   ]
  },
  {
   "cell_type": "raw",
   "metadata": {},
   "source": [
    "15. View vs Shallow Copy\n",
    "View or Shallow Copy. NumPy has ndarray.view() method which is a new array object that looks at the same data of the original array. Unlike the earlier case, change in dimensions of the new array doesn’t change dimensions of the original.\n",
    "The main highlight difference between a copy and view it in its memory location. The copy of an array is a new array. The view, on the other hand, is just a view of the original array."
   ]
  },
  {
   "cell_type": "code",
   "execution_count": 36,
   "metadata": {},
   "outputs": [
    {
     "name": "stdout",
     "output_type": "stream",
     "text": [
      "Array a:\n",
      "[[0 1]\n",
      " [2 3]\n",
      " [4 5]]\n",
      "Create view of a:\n",
      "[[0 1]\n",
      " [2 3]\n",
      " [4 5]]\n",
      "id() for both the arrays are different:\n",
      "id() of a:\n",
      "1682765954544\n",
      "id() of b:\n",
      "1682765954224\n",
      "Shape of b:\n",
      "[[0 1 2]\n",
      " [3 4 5]]\n",
      "Shape of a:\n",
      "[[0 1]\n",
      " [2 3]\n",
      " [4 5]]\n"
     ]
    }
   ],
   "source": [
    "a = np.arange(6).reshape(3,2) \n",
    "print ('Array a:' )\n",
    "print (a)  \n",
    "print ('Create view of a:' )\n",
    "b = a.view() \n",
    "print (b)  \n",
    "print ('id() for both the arrays are different:' )\n",
    "print ('id() of a:')\n",
    "print (id(a))\n",
    "print ('id() of b:' )\n",
    "print (id(b))  \n",
    "b.shape = 2,3 \n",
    "print ('Shape of b:' )\n",
    "print (b)\n",
    "print ('Shape of a:' )\n",
    "print (a)"
   ]
  },
  {
   "cell_type": "raw",
   "metadata": {},
   "source": [
    "# 16. Deep Copy\n",
    "In case of deep copy, a copy of object is copied in other object. It means that any changes made to a copy of object do not reflect in the original object. "
   ]
  },
  {
   "cell_type": "code",
   "execution_count": 38,
   "metadata": {},
   "outputs": [
    {
     "name": "stdout",
     "output_type": "stream",
     "text": [
      "The original elements before deep copying\n",
      "1 2 [3, 5] 4 \r\n",
      "The new list of elements after deep copying \n",
      "1 2 [8, 5] 4 \r\n",
      "The original elements after deep copying\n",
      "1 2 [3, 5] 4 "
     ]
    }
   ],
   "source": [
    "# importing \"copy\" for copy operations \n",
    "import copy \n",
    "li1 = [1, 2, [3,5], 4] \n",
    "li2 = copy.deepcopy(li1) \n",
    "\n",
    "# original elements of list \n",
    "print (\"The original elements before deep copying\") \n",
    "for i in range(0,len(li1)): \n",
    "    print (li1[i],end=\" \") \n",
    "\n",
    "print(\"\\r\") \n",
    "\n",
    "# adding and element to new list \n",
    "li2[2][0] = 8\n",
    "\n",
    "# Change is reflected in l2 \n",
    "print (\"The new list of elements after deep copying \") \n",
    "for i in range(0,len( li1)): \n",
    "    print (li2[i],end=\" \") \n",
    "\n",
    "print(\"\\r\") \n",
    "\n",
    "# Change is NOT reflected in original list as it is a deep copy \n",
    "print (\"The original elements after deep copying\") \n",
    "for i in range(0,len( li1)): \n",
    "    print (li1[i],end=\" \") \n"
   ]
  },
  {
   "cell_type": "raw",
   "metadata": {},
   "source": [
    "#17. copy()\n",
    "it is used to reuse the code or operations\n",
    "Syntax : list.copy()"
   ]
  },
  {
   "cell_type": "code",
   "execution_count": 39,
   "metadata": {},
   "outputs": [
    {
     "name": "stdout",
     "output_type": "stream",
     "text": [
      "The new list created is : [1, 9, 7, 4]\n",
      "The new list after adding new element : [1, 9, 7, 4, 5]\n",
      "The old list after adding new element to new list : [1, 9, 7, 4]\n"
     ]
    }
   ],
   "source": [
    "lis1 = [ 1, 9, 7, 4 ] \n",
    "lis2 = lis1.copy() \n",
    "\n",
    "print (\"The new list created is : \" + str(lis2)) \n",
    "lis2.append(5) \n",
    "\n",
    "# Printing lists after adding new element \n",
    "# No change in old list \n",
    "print (\"The new list after adding new element : \" + str(lis2)) \n",
    "print (\"The old list after adding new element to new list : \" + str(lis1)) \n"
   ]
  },
  {
   "cell_type": "raw",
   "metadata": {},
   "source": [
    "18. meshgrid()\n",
    "The meshgrid() function of Python numpy class returns the coordinate matrices from coordinate vectors.\n",
    "syntax: numpy.meshgrid(*xi, **kwargs)"
   ]
  },
  {
   "cell_type": "code",
   "execution_count": 40,
   "metadata": {},
   "outputs": [
    {
     "name": "stdout",
     "output_type": "stream",
     "text": [
      "x_1 Matrix: \n",
      "[[-2.    -1.375 -0.75  -0.125  0.5    1.125  1.75   2.375  3.   ]\n",
      " [-2.    -1.375 -0.75  -0.125  0.5    1.125  1.75   2.375  3.   ]\n",
      " [-2.    -1.375 -0.75  -0.125  0.5    1.125  1.75   2.375  3.   ]\n",
      " [-2.    -1.375 -0.75  -0.125  0.5    1.125  1.75   2.375  3.   ]\n",
      " [-2.    -1.375 -0.75  -0.125  0.5    1.125  1.75   2.375  3.   ]\n",
      " [-2.    -1.375 -0.75  -0.125  0.5    1.125  1.75   2.375  3.   ]\n",
      " [-2.    -1.375 -0.75  -0.125  0.5    1.125  1.75   2.375  3.   ]\n",
      " [-2.    -1.375 -0.75  -0.125  0.5    1.125  1.75   2.375  3.   ]\n",
      " [-2.    -1.375 -0.75  -0.125  0.5    1.125  1.75   2.375  3.   ]\n",
      " [-2.    -1.375 -0.75  -0.125  0.5    1.125  1.75   2.375  3.   ]\n",
      " [-2.    -1.375 -0.75  -0.125  0.5    1.125  1.75   2.375  3.   ]]\n",
      "y_1 Matrix: \n",
      "[[-5.  -5.  -5.  -5.  -5.  -5.  -5.  -5.  -5. ]\n",
      " [-3.9 -3.9 -3.9 -3.9 -3.9 -3.9 -3.9 -3.9 -3.9]\n",
      " [-2.8 -2.8 -2.8 -2.8 -2.8 -2.8 -2.8 -2.8 -2.8]\n",
      " [-1.7 -1.7 -1.7 -1.7 -1.7 -1.7 -1.7 -1.7 -1.7]\n",
      " [-0.6 -0.6 -0.6 -0.6 -0.6 -0.6 -0.6 -0.6 -0.6]\n",
      " [ 0.5  0.5  0.5  0.5  0.5  0.5  0.5  0.5  0.5]\n",
      " [ 1.6  1.6  1.6  1.6  1.6  1.6  1.6  1.6  1.6]\n",
      " [ 2.7  2.7  2.7  2.7  2.7  2.7  2.7  2.7  2.7]\n",
      " [ 3.8  3.8  3.8  3.8  3.8  3.8  3.8  3.8  3.8]\n",
      " [ 4.9  4.9  4.9  4.9  4.9  4.9  4.9  4.9  4.9]\n",
      " [ 6.   6.   6.   6.   6.   6.   6.   6.   6. ]]\n"
     ]
    }
   ],
   "source": [
    "x = np.linspace(-2, 3, 9)\n",
    "y = np.linspace(-5, 6, 11)\n",
    "# meshgrid two 2-dimensional arrays \n",
    "x_1, y_1 = np.meshgrid(x, y)\n",
    "print(\"x_1 Matrix: \")\n",
    "print(x_1)\n",
    "print(\"y_1 Matrix: \")\n",
    "print(y_1)"
   ]
  },
  {
   "cell_type": "raw",
   "metadata": {},
   "source": [
    "19. swapaxes()\n",
    "numpy.swapaxes() function interchange two axes of an array.\n",
    "Syntax : numpy.swapaxes(arr, axis1, axis2)"
   ]
  },
  {
   "cell_type": "code",
   "execution_count": 41,
   "metadata": {},
   "outputs": [
    {
     "name": "stdout",
     "output_type": "stream",
     "text": [
      "[[2]\n",
      " [4]\n",
      " [6]]\n"
     ]
    }
   ],
   "source": [
    "arr = np.array([[2, 4, 6]]) \n",
    "\n",
    "f = np.swapaxes(arr, 0, 1) \n",
    "\n",
    "print (f) \n"
   ]
  },
  {
   "cell_type": "raw",
   "metadata": {},
   "source": [
    "20. column_stack()\n",
    "numpy.column_stack() function is used to stack 1-D arrays as columns into a 2-D array.It takes a sequence of 1-D arrays and stack them as columns to make a single 2-D array. 2-D arrays are stacked as-is, just like with hstack function.\n",
    "Syntax : numpy.column_stack(tup)"
   ]
  },
  {
   "cell_type": "code",
   "execution_count": 43,
   "metadata": {},
   "outputs": [
    {
     "name": "stdout",
     "output_type": "stream",
     "text": [
      "1st Input array : \n",
      " [1 8 3]\n",
      "2nd Input array : \n",
      " [4 5 7]\n",
      "Output stacked array:\n",
      "  [[1 4]\n",
      " [8 5]\n",
      " [3 7]]\n"
     ]
    }
   ],
   "source": [
    "in_arr1 = np.array(( 1, 8, 3 )) \n",
    "print (\"1st Input array : \\n\", in_arr1) \n",
    "\n",
    "in_arr2 = np.array(( 4, 5, 7 )) \n",
    "print (\"2nd Input array : \\n\", in_arr2) \n",
    "\n",
    "# Stacking the two arrays \n",
    "out_arr = np.column_stack((in_arr1, in_arr2)) \n",
    "print (\"Output stacked array:\\n \", out_arr) \n"
   ]
  },
  {
   "cell_type": "code",
   "execution_count": null,
   "metadata": {},
   "outputs": [],
   "source": []
  }
 ],
 "metadata": {
  "kernelspec": {
   "display_name": "Python 3",
   "language": "python",
   "name": "python3"
  },
  "language_info": {
   "codemirror_mode": {
    "name": "ipython",
    "version": 3
   },
   "file_extension": ".py",
   "mimetype": "text/x-python",
   "name": "python",
   "nbconvert_exporter": "python",
   "pygments_lexer": "ipython3",
   "version": "3.8.3"
  }
 },
 "nbformat": 4,
 "nbformat_minor": 4
}
